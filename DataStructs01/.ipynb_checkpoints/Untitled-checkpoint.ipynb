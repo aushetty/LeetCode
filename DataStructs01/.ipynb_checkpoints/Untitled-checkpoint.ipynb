{
 "cells": [
  {
   "cell_type": "code",
   "execution_count": null,
   "id": "d556b3d6",
   "metadata": {},
   "outputs": [],
   "source": [
    "#Maximum Subarry\n",
    "\n",
    "nums = [-2,1,-3,4,-1,2,1,-5,4]"
   ]
  },
  {
   "cell_type": "code",
   "execution_count": null,
   "id": "fdf2f250",
   "metadata": {},
   "outputs": [],
   "source": [
    "from typing import List\n",
    "class Solution:\n",
    "    def maxSubArray(self, nums: List[int]) -> int:\n",
    "        maxSub = nums[0]\n",
    "        curSum = 0\n",
    "        \n",
    "        for i in nums:\n",
    "            if curSum < 0:\n",
    "                curSum = 0\n",
    "            curSum += i\n",
    "            maxSub = max(maxSub , curSum)\n",
    "        return maxSub\n",
    "    \n",
    "    \n",
    "sol = Solution()\n",
    "sol.maxSubArray(nums)"
   ]
  },
  {
   "cell_type": "code",
   "execution_count": null,
   "id": "e99ea97a",
   "metadata": {},
   "outputs": [],
   "source": [
    "#Integerto ROman\n",
    "num = 3"
   ]
  },
  {
   "cell_type": "code",
   "execution_count": null,
   "id": "cc28c02b",
   "metadata": {},
   "outputs": [],
   "source": [
    "class Solution2:\n",
    "    def intToRoman(self, num: int) -> str:\n",
    "        romlist = [[\"I\", 1], [\"IV\",4],[\"V\", 5],[\"IX\", 9],[\"X\", 10], [\"XL\", 40],[\"L\", 50], [\"C\",100], [\"D\",500], [\"M\", 1000], [\"CM\", 900], [\"XC\", 90], [\"CD\", 400]]\n",
    "        \n",
    "        \n",
    "        res = \"\"\n",
    "        for sym, val in reversed(romlist):\n",
    "            if num == val:\n",
    "                \n",
    "                res = sym\n",
    "        return res                \n",
    "                "
   ]
  },
  {
   "cell_type": "code",
   "execution_count": null,
   "id": "61ef4997",
   "metadata": {},
   "outputs": [],
   "source": [
    "sol2 = Solution2()"
   ]
  },
  {
   "cell_type": "code",
   "execution_count": null,
   "id": "12693b0c",
   "metadata": {},
   "outputs": [],
   "source": [
    "sol2.intToRoman(1000)"
   ]
  },
  {
   "cell_type": "code",
   "execution_count": null,
   "id": "de84ac4f",
   "metadata": {},
   "outputs": [],
   "source": [
    "num = 1000\n",
    "romlist = [[\"I\", 1], [\"IV\",4],[\"V\", 5],[\"IX\", 9],[\"X\", 10], [\"XL\", 40],[\"L\", 50], [\"C\",100], [\"D\",500], [\"M\", 1000], [\"CM\", 900], [\"XC\", 90], [\"CD\", 400]]\n",
    "for sym, val in reversed(romlist):\n",
    "    if num == val:\n",
    "        print(sym)\n",
    "        \n"
   ]
  },
  {
   "cell_type": "code",
   "execution_count": null,
   "id": "d6d5967f",
   "metadata": {},
   "outputs": [],
   "source": [
    "#TwoSum\n",
    "\n",
    "nums = [2,7,11,15]\n",
    "target = 9"
   ]
  },
  {
   "cell_type": "code",
   "execution_count": null,
   "id": "18b7faba",
   "metadata": {},
   "outputs": [],
   "source": [
    "from typing import List\n",
    "class Solution:\n",
    "    def twoSum(self, nums: List[int], target: int) -> List[int]:\n",
    "        \n",
    "        req = {}\n",
    "        \n",
    "        for i in range(len(nums)):\n",
    "            print(nums[i])\n",
    "            diff = target - nums[i]\n",
    "            if diff in req:\n",
    "                return [req[diff], i]\n",
    "            else:\n",
    "                req[nums[i]] = i\n",
    "                print(req)"
   ]
  },
  {
   "cell_type": "code",
   "execution_count": null,
   "id": "dfa22f1b",
   "metadata": {},
   "outputs": [],
   "source": [
    "ob1 = Solution()\n",
    "print(ob1.twoSum(nums , target))"
   ]
  },
  {
   "cell_type": "code",
   "execution_count": null,
   "id": "6ba5b1f0",
   "metadata": {},
   "outputs": [],
   "source": [
    " #Mergesorted\n",
    "nums1 = [1,2,3,0,0,0]\n",
    "m = 3\n",
    "nums2 = [2,5,6]\n",
    "n = 3"
   ]
  },
  {
   "cell_type": "code",
   "execution_count": null,
   "id": "0d8b5d64",
   "metadata": {},
   "outputs": [],
   "source": [
    "last = m + n - 1\n",
    "while m > 0 and n > 0:\n",
    "    if nums1[m-1] > nums2[n-1]:\n",
    "        print(\"this is 1\", nums1[m-1])\n",
    "        print(\"this is 2\",nums2[n-1])\n",
    "        nums1[last] = nums1[m-1]\n",
    "        print(\"this is 3\",nums1[last])\n",
    "        m -= 1\n",
    "    else:\n",
    "        nums1[last] = nums2[n-1]\n",
    "        print(\"this is 4\",nums1[last])\n",
    "        n -= 1\n",
    "while n > 0:\n",
    "    nums[last] = nums2[n-1]\n",
    "    print(\"this is 5\",nums[last])"
   ]
  },
  {
   "cell_type": "code",
   "execution_count": null,
   "id": "cbc244d8",
   "metadata": {},
   "outputs": [],
   "source": []
  },
  {
   "cell_type": "code",
   "execution_count": null,
   "id": "9f1a03b6",
   "metadata": {},
   "outputs": [],
   "source": [
    "from typing import List\n",
    "class Solution:\n",
    "    def merge(self, nums1: List[int], m: int, nums2: List[int], n: int) -> None:\n",
    "        \"\"\"\n",
    "        Do not return anything, modify nums1 in-place instead.\n",
    "        \"\"\"\n",
    "        #get length for last pointer\n",
    "        last = m + n -1\n",
    "        \n",
    "        #merge in reverse\n",
    "        while m > 0 and n > 0:\n",
    "            if nums1[m-1] > nums2[n-1]:\n",
    "                nums1[last] = nums1[m - 1]\n",
    "                m -= 1\n",
    "            \n",
    "            else:\n",
    "                nums1[last] = nums2[n-1]\n",
    "                n -= 1\n",
    "            last -= 1\n",
    "                \n",
    "                \n",
    "        while n > 0:\n",
    "            nums1[last] = nums2[n-1]\n",
    "            n , last = n-1, last -1  "
   ]
  },
  {
   "cell_type": "code",
   "execution_count": null,
   "id": "8b475902",
   "metadata": {},
   "outputs": [],
   "source": [
    "obj1 = Solution()\n",
    "obj1.merge(nums1 = [1,2,3,0,0,0],\n",
    "m = 3,\n",
    "nums2 = [2,5,6],\n",
    "n = 3)"
   ]
  },
  {
   "cell_type": "code",
   "execution_count": null,
   "id": "99a099ba",
   "metadata": {},
   "outputs": [],
   "source": [
    "nums1 = [1,2,2,1]\n",
    "nums2 = [2,2]\n",
    "\n",
    "\n",
    "print(len(nums1))\n",
    "print(len(nums2))"
   ]
  },
  {
   "cell_type": "code",
   "execution_count": null,
   "id": "22c1cb8a",
   "metadata": {},
   "outputs": [],
   "source": [
    "c = Counter(nums1)\n",
    "print(c)"
   ]
  },
  {
   "cell_type": "code",
   "execution_count": null,
   "id": "d8366488",
   "metadata": {},
   "outputs": [],
   "source": [
    "from typing import List\n",
    "class Solution:\n",
    "    def intersect(self, nums1: List[int], nums2: List[int]) -> List[int]:\n",
    "        \n",
    "        i,j = 0,0\n",
    "        output = []\n",
    "        nums1, nums2 = sorted(nums1), sorted(nums2)\n",
    "        while i<len(nums1) and j<len(nums2):\n",
    "            if nums1[i] < nums2[j]:\n",
    "                i+=1\n",
    "            elif nums1[i] > nums2[j]:\n",
    "                j+=1\n",
    "            else:\n",
    "                output.append(nums1[i])\n",
    "                i+= 1\n",
    "                j+= 1\n",
    "        return output"
   ]
  },
  {
   "cell_type": "code",
   "execution_count": null,
   "id": "7752339e",
   "metadata": {},
   "outputs": [],
   "source": [
    "sol = Solution()\n",
    "sol.intersect(nums1 = [1,2,2,1],\n",
    "nums2 = [2,2])"
   ]
  },
  {
   "cell_type": "code",
   "execution_count": null,
   "id": "cc4902d9",
   "metadata": {},
   "outputs": [],
   "source": [
    "prices = [7,1,5,3,6,4]"
   ]
  },
  {
   "cell_type": "code",
   "execution_count": null,
   "id": "7642daf1",
   "metadata": {},
   "outputs": [],
   "source": [
    "from typing import List\n",
    "class Solution:\n",
    "    def maxProfit(self, prices: List[int]) -> int:\n",
    "        #initialize pointers\n",
    "        #l=left=buying\n",
    "        #r=right=selling\n",
    "        l,r = 0,1\n",
    "        maxP = 0\n",
    "        \n",
    "        while r < len(prices):\n",
    "            #checking profitability\n",
    "            if prices[l] < prices[r]:\n",
    "                    profit = prices[r] - prices[l]\n",
    "                    maxP = max(maxP , profit)\n",
    "            else:\n",
    "                l = r\n",
    "            \n",
    "            r+=1\n",
    "        return maxP\n",
    "                "
   ]
  },
  {
   "cell_type": "code",
   "execution_count": null,
   "id": "fa2bc48f",
   "metadata": {},
   "outputs": [],
   "source": [
    "sol = Solution()\n",
    "sol.maxProfit(prices)"
   ]
  },
  {
   "cell_type": "code",
   "execution_count": null,
   "id": "ce1513f9",
   "metadata": {},
   "outputs": [],
   "source": [
    "mat = [[1,2],[3,4]]\n",
    "r = 1\n",
    "c = 4"
   ]
  },
  {
   "cell_type": "code",
   "execution_count": null,
   "id": "e17fc9e6",
   "metadata": {},
   "outputs": [],
   "source": [
    "n,m = len(mat[0]), len(mat)\n",
    "t = r*c\n",
    "if n*m !=t"
   ]
  },
  {
   "cell_type": "code",
   "execution_count": null,
   "id": "80c69db4",
   "metadata": {},
   "outputs": [],
   "source": [
    "import numpy as np\n",
    "arr0 = np.matrix(mat)\n",
    "arr = arr0.reshape(r,c)\n",
    "print(type(arr))\n",
    "print(arr)\n"
   ]
  },
  {
   "cell_type": "code",
   "execution_count": null,
   "id": "be83627e",
   "metadata": {},
   "outputs": [],
   "source": [
    "from typing import List\n",
    "import numpy as np\n",
    "class Solution:\n",
    "    def matrixReshape(self, mat: List[List[int]], r: int, c: int) -> List[List[int]]:\n",
    "        cl = len(mat[0])\n",
    "        rw = len(mat)\n",
    "        \n",
    "        \n",
    "        t=rw*cl\n",
    "        if t != r*c: return mat\n",
    "        \n",
    "        #initializing the empty matrix\n",
    "        output = [[0 for j in range(c)] for i in range(r)]\n",
    "        \n",
    "        #populate now the orgininial matrixx\n",
    "        \n",
    "        tmp = []\n",
    "        for i in range(rw):\n",
    "            for j in range(cl):\n",
    "                tmp.append(mat[i][j])\n",
    "                print(tmp)\n",
    "                \n",
    "        k = 0 \n",
    "        for i in range(r):\n",
    "            for j in range(c):\n",
    "                output[i][j] = tmp[k]\n",
    "                k+=1\n",
    "                print(output)\n",
    "        return output \n",
    "        "
   ]
  },
  {
   "cell_type": "code",
   "execution_count": null,
   "id": "6fedac85",
   "metadata": {},
   "outputs": [],
   "source": [
    "sol = Solution()\n",
    "sol.matrixReshape(mat,r,c)"
   ]
  },
  {
   "cell_type": "code",
   "execution_count": null,
   "id": "ecd1a0fb",
   "metadata": {},
   "outputs": [],
   "source": [
    "#pascals triangle"
   ]
  },
  {
   "cell_type": "code",
   "execution_count": null,
   "id": "47b7a098",
   "metadata": {},
   "outputs": [],
   "source": [
    "k = 0\n",
    "numRows = 5"
   ]
  },
  {
   "cell_type": "code",
   "execution_count": null,
   "id": "0ea50561",
   "metadata": {},
   "outputs": [],
   "source": [
    "matrix1   = [1,2,1]\n",
    "c = len"
   ]
  },
  {
   "cell_type": "code",
   "execution_count": null,
   "id": "731b9b18",
   "metadata": {},
   "outputs": [],
   "source": [
    "type(matrix1)"
   ]
  },
  {
   "cell_type": "code",
   "execution_count": null,
   "id": "c249a338",
   "metadata": {},
   "outputs": [],
   "source": [
    "numRows  = 5 "
   ]
  },
  {
   "cell_type": "code",
   "execution_count": null,
   "id": "9cbcadb0",
   "metadata": {},
   "outputs": [],
   "source": []
  },
  {
   "cell_type": "code",
   "execution_count": null,
   "id": "2b521853",
   "metadata": {},
   "outputs": [],
   "source": [
    "from typing import List\n",
    "class Solution:\n",
    "    def generate(self, numRows: int) -> List[List[int]]:\n",
    "        \n",
    "        res = [[1]]\n",
    "        for i in range(numRows - 1):\n",
    "            temp = [0] + res[-1] + [0]\n",
    "            row = []\n",
    "            \n",
    "            for j in range(len(res[-1]) + 1):\n",
    "                row.append(temp)\n",
    "                \n",
    "        "
   ]
  },
  {
   "cell_type": "code",
   "execution_count": null,
   "id": "4e7115f5",
   "metadata": {},
   "outputs": [],
   "source": [
    "matrix = [[1,2,3,10],[4,5,6,11],[7,8,9,12]]"
   ]
  },
  {
   "cell_type": "code",
   "execution_count": null,
   "id": "09060bb8",
   "metadata": {},
   "outputs": [],
   "source": [
    "len(matrix)"
   ]
  },
  {
   "cell_type": "code",
   "execution_count": null,
   "id": "c568b326",
   "metadata": {},
   "outputs": [],
   "source": [
    "class Solution:\n",
    "    def spiralOrder(self, matrix: List[List[int]]) -> List[int]:\n",
    "        res = []\n",
    "        left , right = 0 , len(matrix[0])\n",
    "        top, bottom = 0 , len (matrix)\n",
    "        \n",
    "        \n",
    "        while left < right and top < bottom:\n",
    "            \n",
    "            for i in range (left , right):\n",
    "                res.append(matrix[top][i])\n",
    "            top += 1\n",
    "            #shifting pointer down \n",
    "            \n",
    "            for i in range(top, bottom):\n",
    "                res.append(matrix[i][right - 1])\n",
    "            right -= 1\n",
    "            #shifting pointer to left \n",
    "            \n",
    "            \n",
    "            if not(left < right and top < bottom):\n",
    "                break\n",
    "                \n",
    "                \n",
    "            for i in range (right - 1 , left - 1, -1):\n",
    "                res.append(matrix[bottom - 1][i])\n",
    "            bottom -= 1\n",
    "            \n",
    "            \n",
    "            for i inn range(bottom -1 , top - 1, -1):\n",
    "                res.append(matrix[i][left])\n",
    "            left += 1\n",
    "            \n",
    "        return res"
   ]
  },
  {
   "cell_type": "code",
   "execution_count": null,
   "id": "f1008f50",
   "metadata": {},
   "outputs": [],
   "source": [
    "class Solution:\n",
    "    def search(self, nums: List[int], target: int) -> int:\n",
    "        left = 0\n",
    "        right = len(nums) - 1\n",
    "     \n",
    "        while left <= right:\n",
    "            pivot = len(nums) // 2\n",
    "            \n",
    "            if nums[pivot] == target:\n",
    "                return pivot\n",
    "            if target <  nums[pivot]:\n",
    "                right = pivot - 1 \n",
    "            else:\n",
    "                left = pivot + 1 \n",
    "        return -1 \n",
    "            \n"
   ]
  },
  {
   "cell_type": "code",
   "execution_count": null,
   "id": "3fc8ed76",
   "metadata": {},
   "outputs": [],
   "source": []
  },
  {
   "cell_type": "code",
   "execution_count": null,
   "id": "04a83b5a",
   "metadata": {},
   "outputs": [],
   "source": []
  },
  {
   "cell_type": "code",
   "execution_count": null,
   "id": "80bbe6fd",
   "metadata": {},
   "outputs": [],
   "source": []
  },
  {
   "cell_type": "code",
   "execution_count": null,
   "id": "0bfce751",
   "metadata": {},
   "outputs": [],
   "source": []
  },
  {
   "cell_type": "code",
   "execution_count": null,
   "id": "61855548",
   "metadata": {},
   "outputs": [],
   "source": []
  },
  {
   "cell_type": "code",
   "execution_count": null,
   "id": "651e2d71",
   "metadata": {},
   "outputs": [],
   "source": []
  },
  {
   "cell_type": "code",
   "execution_count": null,
   "id": "171dec64",
   "metadata": {},
   "outputs": [],
   "source": []
  }
 ],
 "metadata": {
  "kernelspec": {
   "display_name": "Python 3 (ipykernel)",
   "language": "python",
   "name": "python3"
  },
  "language_info": {
   "codemirror_mode": {
    "name": "ipython",
    "version": 3
   },
   "file_extension": ".py",
   "mimetype": "text/x-python",
   "name": "python",
   "nbconvert_exporter": "python",
   "pygments_lexer": "ipython3",
   "version": "3.8.12"
  }
 },
 "nbformat": 4,
 "nbformat_minor": 5
}
